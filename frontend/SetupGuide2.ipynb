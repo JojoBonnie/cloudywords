{
 "cells": [
  {
   "metadata": {},
   "cell_type": "markdown",
   "source": [
    "# Word Cloud Generator Frontend Setup Guide\n",
    "\n",
    "This guide will help you set up and run the Word Cloud Generator frontend application. The frontend is built with React and uses Tailwind CSS for styling.\n",
    "\n",
    "## Prerequisites\n",
    "\n",
    "Before you begin, make sure you have the following installed on your system:\n",
    "\n",
    "- [Node.js](https://nodejs.org/) (v14 or newer)\n",
    "- [npm](https://www.npmjs.com/) (comes with Node.js)\n",
    "- Git (for cloning the repository)\n",
    "\n",
    "## Setup Instructions\n",
    "\n",
    "### 1. Clone the Repository\n",
    "\n",
    "If you haven't already cloned the repository, do so with:\n"
   ],
   "id": "e533a6f1e6c9933a"
  },
  {
   "metadata": {},
   "cell_type": "code",
   "outputs": [],
   "execution_count": null,
   "source": [
    "\n",
    "### 2. Navigate to the Frontend Directory\n"
   ],
   "id": "7911fe266e076fed"
  },
  {
   "metadata": {},
   "cell_type": "code",
   "outputs": [],
   "execution_count": null,
   "source": [
    "\n",
    "### 3. Install Dependencies\n",
    "\n",
    "Install all required packages using npm:\n"
   ],
   "id": "a62a50bd8c16c309"
  },
  {
   "metadata": {},
   "cell_type": "code",
   "outputs": [],
   "execution_count": null,
   "source": [
    "\n",
    "This will install all dependencies defined in the `package.json` file, including:\n",
    "- React and React DOM\n",
    "- React Router for navigation\n",
    "- Tailwind CSS for styling\n",
    "- Axios for API requests\n",
    "- Other utility libraries\n",
    "\n",
    "### 4. Configure Environment Variables\n",
    "\n",
    "Create a `.env` file in the frontend directory by copying the provided example:\n"
   ],
   "id": "209928d3ce6f5e65"
  },
  {
   "metadata": {},
   "cell_type": "code",
   "outputs": [],
   "execution_count": null,
   "source": [
    "\n",
    "Edit the `.env` file to include your configuration:\n"
   ],
   "id": "998b97e3148f9c94"
  },
  {
   "metadata": {},
   "cell_type": "code",
   "outputs": [],
   "execution_count": null,
   "source": [
    "\n",
    "Notes:\n",
    "- Set `REACT_APP_API_URL` to point to your backend API\n",
    "- Replace the OAuth client IDs with your actual credentials if you plan to use social authentication\n",
    "\n",
    "### 5. Start the Development Server\n",
    "\n",
    "Launch the development server with:\n"
   ],
   "id": "8855a005349147e2"
  },
  {
   "metadata": {},
   "cell_type": "code",
   "outputs": [],
   "execution_count": null,
   "source": [
    "\n",
    "This will start the application in development mode. Open [http://localhost:3000](http://localhost:3000) in your browser to view it.\n",
    "\n",
    "The page will automatically reload if you make changes to the code. You will also see any lint errors in the console.\n",
    "\n",
    "### 6. Building for Production\n",
    "\n",
    "When you're ready to deploy, create a production build with:\n"
   ],
   "id": "6f6ac61673bc7fc"
  },
  {
   "metadata": {},
   "cell_type": "code",
   "outputs": [],
   "execution_count": null,
   "source": [
    "\n",
    "This creates an optimized build in the `build` folder that's ready for deployment.\n",
    "\n",
    "## Project Structure\n",
    "\n",
    "The frontend project follows a standard React application structure:\n",
    "\n",
    "- `src/` - Source code for the application\n",
    "- `public/` - Static assets and HTML template\n",
    "- `package.json` - Project dependencies and scripts\n",
    "- `tailwind.config.js` - Tailwind CSS configuration\n",
    "\n",
    "## Additional Information\n",
    "\n",
    "### Styling with Tailwind CSS\n",
    "\n",
    "This project uses Tailwind CSS for styling. The configuration is in `tailwind.config.js`.\n",
    "\n",
    "### Available Scripts\n",
    "\n",
    "- `npm start` - Runs the app in development mode\n",
    "- `npm test` - Launches the test runner\n",
    "- `npm run build` - Builds the app for production\n",
    "- `npm run eject` - Ejects from create-react-app (not recommended)\n",
    "\n",
    "### Dependencies\n",
    "\n",
    "Key dependencies include:\n",
    "- React 18.2.0\n",
    "- React Router DOM 6.22.1\n",
    "- Axios 1.6.7 for API requests\n",
    "- Tailwind CSS 3.4.1 for styling\n",
    "- React Toastify 9.1.3 for notifications\n",
    "- HTML-to-Image 1.11.11 for exporting word clouds\n",
    "\n",
    "## Troubleshooting\n",
    "\n",
    "- If you encounter issues with dependencies, try deleting the `node_modules` folder and running `npm install` again\n",
    "- For port conflicts, you can specify a different port with `PORT=3001 npm start`\n",
    "- Check the console in your browser's developer tools for any error messages"
   ],
   "id": "cc6211ec6166b47e"
  }
 ],
 "metadata": {
  "kernelspec": {
   "display_name": "Python 3",
   "language": "python",
   "name": "python3"
  },
  "language_info": {
   "codemirror_mode": {
    "name": "ipython",
    "version": 2
   },
   "file_extension": ".py",
   "mimetype": "text/x-python",
   "name": "python",
   "nbconvert_exporter": "python",
   "pygments_lexer": "ipython2",
   "version": "2.7.6"
  }
 },
 "nbformat": 4,
 "nbformat_minor": 5
}
